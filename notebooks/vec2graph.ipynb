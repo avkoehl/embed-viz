{
 "cells": [
  {
   "cell_type": "code",
   "execution_count": 11,
   "id": "1a18e9e7",
   "metadata": {},
   "outputs": [],
   "source": [
    "from gensim.models import Word2Vec\n",
    "from vec2graph import visualize"
   ]
  },
  {
   "cell_type": "code",
   "execution_count": 3,
   "id": "9449e52c",
   "metadata": {},
   "outputs": [],
   "source": [
    "model = Word2Vec.load(\"../data/full.model\")"
   ]
  },
  {
   "cell_type": "code",
   "execution_count": 7,
   "id": "9f69f22b",
   "metadata": {},
   "outputs": [
    {
     "data": {
      "text/plain": [
       "[('rider', 0.6884092688560486),\n",
       " ('saddle', 0.683016300201416),\n",
       " ('horses', 0.6769030094146729),\n",
       " ('mule', 0.6451544761657715),\n",
       " ('dragoons', 0.6371888518333435),\n",
       " ('unhorsed', 0.6311699151992798),\n",
       " ('unmanaged', 0.6215799450874329),\n",
       " ('infantry', 0.6199265718460083),\n",
       " ('cavalry', 0.6142978668212891),\n",
       " ('riders', 0.6128694415092468)]"
      ]
     },
     "execution_count": 7,
     "metadata": {},
     "output_type": "execute_result"
    }
   ],
   "source": [
    "model.wv.most_similar(\"horse\")"
   ]
  },
  {
   "cell_type": "code",
   "execution_count": 13,
   "id": "814fc921",
   "metadata": {},
   "outputs": [
    {
     "name": "stderr",
     "output_type": "stream",
     "text": [
      "Visualizations written to tmp/graphs\n"
     ]
    },
    {
     "data": {
      "text/plain": [
       "['horse']"
      ]
     },
     "execution_count": 13,
     "metadata": {},
     "output_type": "execute_result"
    }
   ],
   "source": [
    "visualize('tmp/graphs', model.wv, 'horse')"
   ]
  },
  {
   "cell_type": "code",
   "execution_count": null,
   "id": "41f069d6",
   "metadata": {},
   "outputs": [],
   "source": []
  }
 ],
 "metadata": {
  "kernelspec": {
   "display_name": "Python 3",
   "language": "python",
   "name": "python3"
  },
  "language_info": {
   "codemirror_mode": {
    "name": "ipython",
    "version": 3
   },
   "file_extension": ".py",
   "mimetype": "text/x-python",
   "name": "python",
   "nbconvert_exporter": "python",
   "pygments_lexer": "ipython3",
   "version": "3.7.4"
  }
 },
 "nbformat": 4,
 "nbformat_minor": 5
}
