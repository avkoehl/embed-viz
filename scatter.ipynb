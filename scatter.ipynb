{
 "cells": [
  {
   "cell_type": "code",
   "execution_count": 2,
   "id": "93004104",
   "metadata": {},
   "outputs": [],
   "source": [
    "from pymongo import MongoClient"
   ]
  },
  {
   "cell_type": "code",
   "execution_count": 9,
   "id": "202f900e",
   "metadata": {},
   "outputs": [],
   "source": [
    "client = MongoClient(\"localhost\", 27017)\n",
    "db = client[\"quintessence\"]\n"
   ]
  },
  {
   "cell_type": "code",
   "execution_count": 10,
   "id": "8d1a9577",
   "metadata": {},
   "outputs": [
    {
     "data": {
      "text/plain": [
       "['docs.pos',\n",
       " 'topics.topterms',\n",
       " 'topics.keywords',\n",
       " 'topics.termstopicsdist',\n",
       " 'docs.text',\n",
       " 'docs.topics',\n",
       " 'docs.std',\n",
       " 'topics.proportions',\n",
       " 'topics.decades',\n",
       " 'topics.locations',\n",
       " 'topics.coordinates',\n",
       " 'topics',\n",
       " 'topics.info',\n",
       " 'terms.timeseries',\n",
       " 'docs.lemma',\n",
       " 'docs.xml.chunks',\n",
       " 'topics.toprelevanceterms',\n",
       " 'topics.authors',\n",
       " 'frequencies.docs',\n",
       " 'topics.doctopics',\n",
       " 'terms.subsets',\n",
       " 'frequencies.terms',\n",
       " 'docs.truncated',\n",
       " 'docs.meta',\n",
       " 'topics.termstopics',\n",
       " 'frequencies.corpus',\n",
       " 'docs.xml.files',\n",
       " 'terms.neighbors']"
      ]
     },
     "execution_count": 10,
     "metadata": {},
     "output_type": "execute_result"
    }
   ],
   "source": [
    "db.list_collection_names()"
   ]
  },
  {
   "cell_type": "code",
   "execution_count": null,
   "id": "7ca17225",
   "metadata": {},
   "outputs": [],
   "source": []
  }
 ],
 "metadata": {
  "kernelspec": {
   "display_name": "Python 3",
   "language": "python",
   "name": "python3"
  },
  "language_info": {
   "codemirror_mode": {
    "name": "ipython",
    "version": 3
   },
   "file_extension": ".py",
   "mimetype": "text/x-python",
   "name": "python",
   "nbconvert_exporter": "python",
   "pygments_lexer": "ipython3",
   "version": "3.7.4"
  }
 },
 "nbformat": 4,
 "nbformat_minor": 5
}
